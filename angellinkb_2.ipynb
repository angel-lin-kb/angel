{
  "nbformat": 4,
  "nbformat_minor": 0,
  "metadata": {
    "colab": {
      "provenance": []
    },
    "kernelspec": {
      "name": "python3",
      "display_name": "Python 3"
    },
    "language_info": {
      "name": "python"
    }
  },
  "cells": [
    {
      "cell_type": "markdown",
      "source": [
        "**assignment** **2**"
      ],
      "metadata": {
        "id": "9r2SmQFAFxIY"
      }
    },
    {
      "cell_type": "markdown",
      "source": [
        "1"
      ],
      "metadata": {
        "id": "GuqyxUKmF8yp"
      }
    },
    {
      "cell_type": "code",
      "execution_count": null,
      "metadata": {
        "colab": {
          "base_uri": "https://localhost:8080/"
        },
        "id": "-0HD6YnuFoch",
        "outputId": "e6f0427f-b57a-43ba-8f65-1df86dec9fea"
      },
      "outputs": [
        {
          "output_type": "stream",
          "name": "stdout",
          "text": [
            "enter a number9\n",
            "enter a number7\n",
            "63\n"
          ]
        }
      ],
      "source": [
        "height=int(input('enter a number'))\n",
        "width=int(input('enter a number'))\n",
        "a=height*width\n",
        "print(a)"
      ]
    },
    {
      "cell_type": "markdown",
      "source": [
        "2"
      ],
      "metadata": {
        "id": "kbs14ceFFwcB"
      }
    },
    {
      "cell_type": "code",
      "source": [
        "a=int(input('enter a no'))\n",
        "b=int(input('enter a no'))\n",
        "s=a+b\n",
        "d=a-b\n",
        "p=a*b\n",
        "q=a/b\n",
        "print(s)\n",
        "print(d)\n",
        "print(p)\n",
        "print(q)"
      ],
      "metadata": {
        "colab": {
          "base_uri": "https://localhost:8080/"
        },
        "id": "olLsuENWGzZe",
        "outputId": "f07ea5ec-3041-4fb5-9a61-5f0a60db9002"
      },
      "execution_count": null,
      "outputs": [
        {
          "output_type": "stream",
          "name": "stdout",
          "text": [
            "enter a no10\n",
            "enter a no3\n",
            "13\n",
            "7\n",
            "30\n",
            "3.3333333333333335\n"
          ]
        }
      ]
    },
    {
      "cell_type": "markdown",
      "source": [
        "3"
      ],
      "metadata": {
        "id": "UOy3SeO7H2X2"
      }
    },
    {
      "cell_type": "code",
      "source": [
        "f=float(input('enter a no'))\n",
        "c=(f-32)*5/9\n",
        "print(c)"
      ],
      "metadata": {
        "colab": {
          "base_uri": "https://localhost:8080/"
        },
        "id": "JkSzSUgxH5nF",
        "outputId": "63c1a1dd-1b4b-48ac-fe94-aa6df8259fb7"
      },
      "execution_count": null,
      "outputs": [
        {
          "output_type": "stream",
          "name": "stdout",
          "text": [
            "enter a no50\n",
            "10.0\n"
          ]
        }
      ]
    },
    {
      "cell_type": "code",
      "source": [
        "c=float(input('enter a no'))\n",
        "f=(c*9/5)+32\n",
        "print(f)"
      ],
      "metadata": {
        "colab": {
          "base_uri": "https://localhost:8080/"
        },
        "id": "5J6LqirqIWPV",
        "outputId": "52b257e4-35ff-4c3c-d595-ff84b4d5632a"
      },
      "execution_count": null,
      "outputs": [
        {
          "output_type": "stream",
          "name": "stdout",
          "text": [
            "enter a no30\n",
            "86.0\n"
          ]
        }
      ]
    },
    {
      "cell_type": "markdown",
      "source": [
        "4"
      ],
      "metadata": {
        "id": "sq35idz9ISkJ"
      }
    },
    {
      "cell_type": "code",
      "source": [
        "num=int(input('enter a no'))\n",
        "if a>0:\n",
        "  print('num is positive')\n",
        "elif a<0:\n",
        "  print('num is negetive')"
      ],
      "metadata": {
        "colab": {
          "base_uri": "https://localhost:8080/"
        },
        "id": "Yh2k2HktIur5",
        "outputId": "9670224b-82e9-41c2-f376-9a9e3d05ed01"
      },
      "execution_count": null,
      "outputs": [
        {
          "output_type": "stream",
          "name": "stdout",
          "text": [
            "enter a no4\n",
            "num is positive\n"
          ]
        }
      ]
    },
    {
      "cell_type": "markdown",
      "source": [
        "5"
      ],
      "metadata": {
        "id": "El0WzZojKICB"
      }
    },
    {
      "cell_type": "code",
      "source": [
        "y=int(input('enter the year'))\n",
        "if y%4==0:\n",
        "  print('it is a leap year')\n",
        "elif y%4!=0:\n",
        "  print('it is not a leap year')\n",
        "elif y%400==0:\n",
        "  print('it is a leap year')\n",
        "elif y%400!=0:\n",
        "  print('it is not a leap year')"
      ],
      "metadata": {
        "colab": {
          "base_uri": "https://localhost:8080/"
        },
        "id": "QGee179hKJHk",
        "outputId": "3cdb65d9-a753-47fb-b74a-b8ef761460af"
      },
      "execution_count": null,
      "outputs": [
        {
          "output_type": "stream",
          "name": "stdout",
          "text": [
            "enter the year2004\n",
            "it is a leap year\n"
          ]
        }
      ]
    },
    {
      "cell_type": "markdown",
      "source": [
        "6"
      ],
      "metadata": {
        "id": "wVcSFZFyLWeb"
      }
    },
    {
      "cell_type": "code",
      "source": [
        "mark=int(input('enter mark'))\n",
        "if mark>90:\n",
        "  print('A')\n",
        "elif mark>80:\n",
        "  print('B')\n",
        "elif mark>70:\n",
        "  print('C')\n",
        "elif mark>60:\n",
        "  print('D')\n",
        "else:\n",
        "  print('F')"
      ],
      "metadata": {
        "colab": {
          "base_uri": "https://localhost:8080/"
        },
        "id": "lEM7p7PxMHvq",
        "outputId": "f08817fc-e32e-4984-8cdc-4ebb806ba276"
      },
      "execution_count": null,
      "outputs": [
        {
          "output_type": "stream",
          "name": "stdout",
          "text": [
            "enter mark57\n",
            "F\n"
          ]
        }
      ]
    },
    {
      "cell_type": "markdown",
      "source": [
        "7"
      ],
      "metadata": {
        "id": "bgB08jD4M6_g"
      }
    },
    {
      "cell_type": "code",
      "source": [
        "for num in range (10,0,-1):\n",
        " print(num)"
      ],
      "metadata": {
        "colab": {
          "base_uri": "https://localhost:8080/"
        },
        "id": "LNwtjQNeLXvd",
        "outputId": "1b2e5e30-f4fb-4eae-e873-f4a459494494"
      },
      "execution_count": null,
      "outputs": [
        {
          "output_type": "stream",
          "name": "stdout",
          "text": [
            "10\n",
            "9\n",
            "8\n",
            "7\n",
            "6\n",
            "5\n",
            "4\n",
            "3\n",
            "2\n",
            "1\n"
          ]
        }
      ]
    },
    {
      "cell_type": "markdown",
      "source": [
        "8"
      ],
      "metadata": {
        "id": "ugNJ8zeXNOfQ"
      }
    },
    {
      "cell_type": "code",
      "source": [
        "for num in range (2,22,2):\n",
        "  print(num)\n"
      ],
      "metadata": {
        "colab": {
          "base_uri": "https://localhost:8080/"
        },
        "id": "V8l2MZR5NPhF",
        "outputId": "c2b88fe6-f17a-46e0-898a-25ef7b253a94"
      },
      "execution_count": null,
      "outputs": [
        {
          "output_type": "stream",
          "name": "stdout",
          "text": [
            "2\n",
            "4\n",
            "6\n",
            "8\n",
            "10\n",
            "12\n",
            "14\n",
            "16\n",
            "18\n",
            "20\n"
          ]
        }
      ]
    },
    {
      "cell_type": "markdown",
      "source": [
        "9"
      ],
      "metadata": {
        "id": "Xr-q6DCkNooN"
      }
    },
    {
      "cell_type": "code",
      "source": [
        "n=int(input('enter a no'))\n",
        "for i in range (1,11):\n",
        "  print(i,'x','=',i*n)"
      ],
      "metadata": {
        "colab": {
          "base_uri": "https://localhost:8080/"
        },
        "id": "sgg6UtQmNp2c",
        "outputId": "a11eb858-3e7f-4189-8494-d8e43b5d11f4"
      },
      "execution_count": null,
      "outputs": [
        {
          "output_type": "stream",
          "name": "stdout",
          "text": [
            "enter a no2\n",
            "1 x = 2\n",
            "2 x = 4\n",
            "3 x = 6\n",
            "4 x = 8\n",
            "5 x = 10\n",
            "6 x = 12\n",
            "7 x = 14\n",
            "8 x = 16\n",
            "9 x = 18\n",
            "10 x = 20\n"
          ]
        }
      ]
    }
  ]
}