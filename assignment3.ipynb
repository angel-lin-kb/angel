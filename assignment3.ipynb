{
  "nbformat": 4,
  "nbformat_minor": 0,
  "metadata": {
    "colab": {
      "provenance": []
    },
    "kernelspec": {
      "name": "python3",
      "display_name": "Python 3"
    },
    "language_info": {
      "name": "python"
    }
  },
  "cells": [
    {
      "cell_type": "code",
      "source": [
        "assignment 3\n",
        "\n"
      ],
      "metadata": {
        "id": "c6YVlEtETjsQ"
      },
      "execution_count": null,
      "outputs": []
    },
    {
      "cell_type": "markdown",
      "source": [
        "1"
      ],
      "metadata": {
        "id": "qjqGEQc8TpYD"
      }
    },
    {
      "cell_type": "code",
      "execution_count": 5,
      "metadata": {
        "id": "e-Zi_p35TiTT"
      },
      "outputs": [],
      "source": [
        "import numpy as np"
      ]
    },
    {
      "cell_type": "code",
      "source": [
        "arr1=np.arange(1,11)"
      ],
      "metadata": {
        "id": "hXecB95CUChs"
      },
      "execution_count": null,
      "outputs": []
    },
    {
      "cell_type": "code",
      "source": [
        "arr1"
      ],
      "metadata": {
        "colab": {
          "base_uri": "https://localhost:8080/"
        },
        "id": "bbvrDiHcURVz",
        "outputId": "4b2a1711-a22e-48ee-d89f-0e7127235116"
      },
      "execution_count": null,
      "outputs": [
        {
          "output_type": "execute_result",
          "data": {
            "text/plain": [
              "array([ 1,  2,  3,  4,  5,  6,  7,  8,  9, 10])"
            ]
          },
          "metadata": {},
          "execution_count": 5
        }
      ]
    },
    {
      "cell_type": "markdown",
      "source": [
        "2"
      ],
      "metadata": {
        "id": "1U8KKoGXUUsN"
      }
    },
    {
      "cell_type": "code",
      "source": [
        "arr2=np.zeros((2,3))"
      ],
      "metadata": {
        "id": "FhU8fvAZUTUE"
      },
      "execution_count": null,
      "outputs": []
    },
    {
      "cell_type": "code",
      "source": [
        "arr2"
      ],
      "metadata": {
        "colab": {
          "base_uri": "https://localhost:8080/"
        },
        "id": "JVSIxO6_UbiM",
        "outputId": "ed419503-8f70-46f3-ce78-a58497ad143e"
      },
      "execution_count": null,
      "outputs": [
        {
          "output_type": "execute_result",
          "data": {
            "text/plain": [
              "array([[0., 0., 0.],\n",
              "       [0., 0., 0.]])"
            ]
          },
          "metadata": {},
          "execution_count": 8
        }
      ]
    },
    {
      "cell_type": "markdown",
      "source": [
        "3"
      ],
      "metadata": {
        "id": "DH4VkidkUlFk"
      }
    },
    {
      "cell_type": "code",
      "source": [
        "arr3=np.arange(2,21,2)"
      ],
      "metadata": {
        "id": "4mysBfNPUm1E"
      },
      "execution_count": null,
      "outputs": []
    },
    {
      "cell_type": "code",
      "source": [
        "arr3"
      ],
      "metadata": {
        "colab": {
          "base_uri": "https://localhost:8080/"
        },
        "id": "naQ3JkQyU0oC",
        "outputId": "ec5c1564-b6dd-46f8-b273-5746f8bef73a"
      },
      "execution_count": null,
      "outputs": [
        {
          "output_type": "execute_result",
          "data": {
            "text/plain": [
              "array([ 2,  4,  6,  8, 10, 12, 14, 16, 18, 20])"
            ]
          },
          "metadata": {},
          "execution_count": 10
        }
      ]
    },
    {
      "cell_type": "markdown",
      "source": [
        "4"
      ],
      "metadata": {
        "id": "plPK2PqNU61C"
      }
    },
    {
      "cell_type": "code",
      "source": [
        "arr1=np.array([1,2,3])"
      ],
      "metadata": {
        "id": "C_mUt0gBU7kK"
      },
      "execution_count": null,
      "outputs": []
    },
    {
      "cell_type": "code",
      "source": [
        "arr2=np.array([4,5,6])"
      ],
      "metadata": {
        "id": "xuOkVShkV8ik"
      },
      "execution_count": null,
      "outputs": []
    },
    {
      "cell_type": "code",
      "source": [
        "arr1+arr2"
      ],
      "metadata": {
        "colab": {
          "base_uri": "https://localhost:8080/"
        },
        "id": "RcPeq4tzVF08",
        "outputId": "b1a672c6-53ca-4245-adaf-e9c62ae821e0"
      },
      "execution_count": null,
      "outputs": [
        {
          "output_type": "execute_result",
          "data": {
            "text/plain": [
              "array([5, 7, 9])"
            ]
          },
          "metadata": {},
          "execution_count": 19
        }
      ]
    },
    {
      "cell_type": "code",
      "source": [
        "arr1-arr2"
      ],
      "metadata": {
        "colab": {
          "base_uri": "https://localhost:8080/"
        },
        "id": "-64MFxhcVSSL",
        "outputId": "d69b6717-126d-43ba-c2b4-86b25674b9a2"
      },
      "execution_count": null,
      "outputs": [
        {
          "output_type": "execute_result",
          "data": {
            "text/plain": [
              "array([-3, -3, -3])"
            ]
          },
          "metadata": {},
          "execution_count": 20
        }
      ]
    },
    {
      "cell_type": "code",
      "source": [
        "arr1*arr2\n"
      ],
      "metadata": {
        "colab": {
          "base_uri": "https://localhost:8080/"
        },
        "id": "xTeVJRiIViR0",
        "outputId": "7cc3b0ff-6a6c-4bc3-ddff-c34099d25351"
      },
      "execution_count": null,
      "outputs": [
        {
          "output_type": "execute_result",
          "data": {
            "text/plain": [
              "array([ 4, 10, 18])"
            ]
          },
          "metadata": {},
          "execution_count": 21
        }
      ]
    },
    {
      "cell_type": "code",
      "source": [
        "arr1/arr2"
      ],
      "metadata": {
        "colab": {
          "base_uri": "https://localhost:8080/"
        },
        "id": "oZwTyqZkVpCk",
        "outputId": "67315a7f-4881-458c-d645-a0e74f271e73"
      },
      "execution_count": null,
      "outputs": [
        {
          "output_type": "execute_result",
          "data": {
            "text/plain": [
              "array([0.25, 0.4 , 0.5 ])"
            ]
          },
          "metadata": {},
          "execution_count": 22
        }
      ]
    },
    {
      "cell_type": "markdown",
      "source": [
        "5"
      ],
      "metadata": {
        "id": "-qdzdwLHWr9l"
      }
    },
    {
      "cell_type": "code",
      "source": [
        "arr1=np.random.randint(1,101,100)"
      ],
      "metadata": {
        "id": "o-Y_suYjWwjk"
      },
      "execution_count": null,
      "outputs": []
    },
    {
      "cell_type": "code",
      "source": [
        "arr1"
      ],
      "metadata": {
        "colab": {
          "base_uri": "https://localhost:8080/"
        },
        "id": "mUNHeNDYXMOv",
        "outputId": "b8aa374c-8c23-48eb-d358-261e9789a1f6"
      },
      "execution_count": null,
      "outputs": [
        {
          "output_type": "execute_result",
          "data": {
            "text/plain": [
              "array([  5,  29,  19,  55,  77,  40,  65,  65,  80,  27,  69,  23,  48,\n",
              "        56,  78,  80,  24,  35,  71,  14,  36,  36,  57,  34,  25,  70,\n",
              "        78,  22,  85,  46,  81,  96,  37,  14,   9,  27,  28,   7,  89,\n",
              "        16,  98,  24,  50,  48,  57,  85,  26,  38,  54,  21,  86, 100,\n",
              "         5,  18,   3,  28,  15,  75,  71,  54,  59,  49,  14,  39,  94,\n",
              "         8,  63,  50,  26,  32,  39,  95,  62,  84,  36,  48,  12,  92,\n",
              "        52,  30,  97,  55,  33,  36,  22,  13,  75,  51,  16,  37,  70,\n",
              "        52,   4,  29,  18,  82,  82,   3,  23,  91])"
            ]
          },
          "metadata": {},
          "execution_count": 24
        }
      ]
    },
    {
      "cell_type": "markdown",
      "source": [
        "6"
      ],
      "metadata": {
        "id": "4FZnJ83sXqbq"
      }
    },
    {
      "cell_type": "code",
      "source": [
        "arr1=np.random.randint(1,101,12)\n"
      ],
      "metadata": {
        "id": "VEWGR3SGXrT3"
      },
      "execution_count": null,
      "outputs": []
    },
    {
      "cell_type": "code",
      "source": [
        "arr1"
      ],
      "metadata": {
        "colab": {
          "base_uri": "https://localhost:8080/"
        },
        "id": "_vzntikxX5P3",
        "outputId": "432b7744-c474-468e-8b05-a55c188c06e1"
      },
      "execution_count": null,
      "outputs": [
        {
          "output_type": "execute_result",
          "data": {
            "text/plain": [
              "array([70, 39, 61, 84, 34, 30, 85, 17, 91, 40, 14,  6])"
            ]
          },
          "metadata": {},
          "execution_count": 27
        }
      ]
    },
    {
      "cell_type": "code",
      "source": [
        "arr1.reshape(3,4)"
      ],
      "metadata": {
        "colab": {
          "base_uri": "https://localhost:8080/"
        },
        "id": "CvIqySABYABu",
        "outputId": "0147cc52-6286-4a6f-9a3d-21b06be71592"
      },
      "execution_count": null,
      "outputs": [
        {
          "output_type": "execute_result",
          "data": {
            "text/plain": [
              "array([[70, 39, 61, 84],\n",
              "       [34, 30, 85, 17],\n",
              "       [91, 40, 14,  6]])"
            ]
          },
          "metadata": {},
          "execution_count": 28
        }
      ]
    },
    {
      "cell_type": "markdown",
      "source": [
        "7"
      ],
      "metadata": {
        "id": "SIvAmU5gYGEE"
      }
    },
    {
      "cell_type": "code",
      "source": [
        "arr=np.array([1,2,3,4,5])\n",
        "np.square(arr)"
      ],
      "metadata": {
        "colab": {
          "base_uri": "https://localhost:8080/"
        },
        "id": "V7NSgdPTYHBM",
        "outputId": "b814f38d-f058-4d4b-8c45-68df5397bf01"
      },
      "execution_count": null,
      "outputs": [
        {
          "output_type": "execute_result",
          "data": {
            "text/plain": [
              "array([ 1,  4,  9, 16, 25])"
            ]
          },
          "metadata": {},
          "execution_count": 29
        }
      ]
    },
    {
      "cell_type": "markdown",
      "source": [
        "8"
      ],
      "metadata": {
        "id": "v8GtQncgYdxL"
      }
    },
    {
      "cell_type": "code",
      "source": [
        "np.eye(5,5)"
      ],
      "metadata": {
        "colab": {
          "base_uri": "https://localhost:8080/"
        },
        "id": "7q5ayA7SYf4b",
        "outputId": "bcab9cbf-1b87-450c-a656-29485c3a34fb"
      },
      "execution_count": null,
      "outputs": [
        {
          "output_type": "execute_result",
          "data": {
            "text/plain": [
              "array([[1., 0., 0., 0., 0.],\n",
              "       [0., 1., 0., 0., 0.],\n",
              "       [0., 0., 1., 0., 0.],\n",
              "       [0., 0., 0., 1., 0.],\n",
              "       [0., 0., 0., 0., 1.]])"
            ]
          },
          "metadata": {},
          "execution_count": 30
        }
      ]
    },
    {
      "cell_type": "markdown",
      "source": [
        "9"
      ],
      "metadata": {
        "id": "FxdriwcvYqNL"
      }
    },
    {
      "cell_type": "code",
      "source": [
        "a=np.array([1,2,3])\n",
        "b=np.array([4,5,6])"
      ],
      "metadata": {
        "id": "zCRHXdWQYror"
      },
      "execution_count": null,
      "outputs": []
    },
    {
      "cell_type": "code",
      "source": [
        "a.dot(b)"
      ],
      "metadata": {
        "colab": {
          "base_uri": "https://localhost:8080/"
        },
        "id": "_k_DQmEIY5Gj",
        "outputId": "aa4ee146-6e45-4384-cddc-b219712753a9"
      },
      "execution_count": null,
      "outputs": [
        {
          "output_type": "execute_result",
          "data": {
            "text/plain": [
              "32"
            ]
          },
          "metadata": {},
          "execution_count": 32
        }
      ]
    },
    {
      "cell_type": "markdown",
      "source": [
        "10"
      ],
      "metadata": {
        "id": "7-S9zP5qZB5b"
      }
    },
    {
      "cell_type": "code",
      "source": [
        "arr1=np.random.randint(1,101,10)"
      ],
      "metadata": {
        "id": "ynB6Xc-OZDmz"
      },
      "execution_count": 6,
      "outputs": []
    },
    {
      "cell_type": "code",
      "source": [
        "arr1"
      ],
      "metadata": {
        "colab": {
          "base_uri": "https://localhost:8080/"
        },
        "id": "FRAAEHkoDHn-",
        "outputId": "be54ce44-e6e2-424c-8477-b328bad53088"
      },
      "execution_count": 7,
      "outputs": [
        {
          "output_type": "execute_result",
          "data": {
            "text/plain": [
              "array([98, 20, 77, 95, 86, 33, 47, 75, 42, 12])"
            ]
          },
          "metadata": {},
          "execution_count": 7
        }
      ]
    },
    {
      "cell_type": "code",
      "source": [
        "arr1.argmax()"
      ],
      "metadata": {
        "colab": {
          "base_uri": "https://localhost:8080/"
        },
        "id": "ASkKZl0DDppE",
        "outputId": "dd4dcc47-fa0f-4181-a134-0bd0ff325de9"
      },
      "execution_count": 8,
      "outputs": [
        {
          "output_type": "execute_result",
          "data": {
            "text/plain": [
              "0"
            ]
          },
          "metadata": {},
          "execution_count": 8
        }
      ]
    },
    {
      "cell_type": "code",
      "source": [
        "arr1.argmin()"
      ],
      "metadata": {
        "colab": {
          "base_uri": "https://localhost:8080/"
        },
        "id": "wzApu1YLDwT8",
        "outputId": "901deada-f234-496f-8bd2-eb9e1291812f"
      },
      "execution_count": 9,
      "outputs": [
        {
          "output_type": "execute_result",
          "data": {
            "text/plain": [
              "9"
            ]
          },
          "metadata": {},
          "execution_count": 9
        }
      ]
    },
    {
      "cell_type": "markdown",
      "source": [
        "11"
      ],
      "metadata": {
        "id": "Loljj-SeD2Nt"
      }
    },
    {
      "cell_type": "code",
      "source": [
        "a=np.zeros((4,4))\n",
        "b=np.ones((4,4))\n",
        "c=np.concatenate((a,b))\n",
        "d=np.concatenate((a,b),axis=1)\n",
        "print('vertical concatenation-\\n',c)\n",
        "print('horizontal concatenation-\\n',d)"
      ],
      "metadata": {
        "colab": {
          "base_uri": "https://localhost:8080/"
        },
        "id": "-niGSQGVD3VW",
        "outputId": "fad153fc-3951-4865-f725-fe3cdac22aee"
      },
      "execution_count": 14,
      "outputs": [
        {
          "output_type": "stream",
          "name": "stdout",
          "text": [
            "vertical concatenation-\n",
            " [[0. 0. 0. 0.]\n",
            " [0. 0. 0. 0.]\n",
            " [0. 0. 0. 0.]\n",
            " [0. 0. 0. 0.]\n",
            " [1. 1. 1. 1.]\n",
            " [1. 1. 1. 1.]\n",
            " [1. 1. 1. 1.]\n",
            " [1. 1. 1. 1.]]\n",
            "horizontal concatenation-\n",
            " [[0. 0. 0. 0. 1. 1. 1. 1.]\n",
            " [0. 0. 0. 0. 1. 1. 1. 1.]\n",
            " [0. 0. 0. 0. 1. 1. 1. 1.]\n",
            " [0. 0. 0. 0. 1. 1. 1. 1.]]\n"
          ]
        }
      ]
    },
    {
      "cell_type": "markdown",
      "source": [
        "12"
      ],
      "metadata": {
        "id": "5quColF_FTy7"
      }
    },
    {
      "cell_type": "code",
      "source": [
        "arr=np.arange(1,17).reshape(4,4)\n",
        "print(arr)\n",
        "print('sum of each column is',np.sum(arr,axis=0))\n",
        "print('sum of each row is',np.sum(arr,axis=1))"
      ],
      "metadata": {
        "colab": {
          "base_uri": "https://localhost:8080/"
        },
        "id": "wTgY-mo3FUpc",
        "outputId": "7daf116f-18bf-4c31-d205-7860b79e52d5"
      },
      "execution_count": 15,
      "outputs": [
        {
          "output_type": "stream",
          "name": "stdout",
          "text": [
            "[[ 1  2  3  4]\n",
            " [ 5  6  7  8]\n",
            " [ 9 10 11 12]\n",
            " [13 14 15 16]]\n",
            "sum of each column is [28 32 36 40]\n",
            "sum of each row is [10 26 42 58]\n"
          ]
        }
      ]
    },
    {
      "cell_type": "markdown",
      "source": [
        "13"
      ],
      "metadata": {
        "id": "Maqfob34GG_q"
      }
    },
    {
      "cell_type": "code",
      "source": [
        "a=np.array([[4,9],[5,8],[6,7]])\n",
        "b=np.array([[3,9],[5,2],[6,7]])\n",
        "c=np.intersect1d(a,b)\n",
        "print(\"the common elements between a and b are\",c)"
      ],
      "metadata": {
        "colab": {
          "base_uri": "https://localhost:8080/"
        },
        "id": "fnKj155uGIHa",
        "outputId": "26bc7a49-14fe-46e5-b6b2-56d382577cb0"
      },
      "execution_count": 16,
      "outputs": [
        {
          "output_type": "stream",
          "name": "stdout",
          "text": [
            "the common elements between a and b are [5 6 7 9]\n"
          ]
        }
      ]
    },
    {
      "cell_type": "markdown",
      "source": [
        "14"
      ],
      "metadata": {
        "id": "G_577XvgH7eb"
      }
    },
    {
      "cell_type": "code",
      "source": [
        "x=np.array([1,2,3,-4,-5,-6])\n",
        "x[x<0]=0\n",
        "x"
      ],
      "metadata": {
        "colab": {
          "base_uri": "https://localhost:8080/"
        },
        "id": "KZLSrHO4H8Y5",
        "outputId": "36bca607-56b1-4b0b-86d8-8cb24248577c"
      },
      "execution_count": 17,
      "outputs": [
        {
          "output_type": "execute_result",
          "data": {
            "text/plain": [
              "array([1, 2, 3, 0, 0, 0])"
            ]
          },
          "metadata": {},
          "execution_count": 17
        }
      ]
    },
    {
      "cell_type": "markdown",
      "source": [
        "15"
      ],
      "metadata": {
        "id": "2Vz7ic9IIO-_"
      }
    },
    {
      "cell_type": "code",
      "source": [
        "arr1=np.random.randint(1,101,100)\n",
        "arr1.sort()\n",
        "arr1"
      ],
      "metadata": {
        "colab": {
          "base_uri": "https://localhost:8080/"
        },
        "id": "aneIEnlsIQLQ",
        "outputId": "115ac73e-120d-4c78-974a-fb7e3caf0073"
      },
      "execution_count": 18,
      "outputs": [
        {
          "output_type": "execute_result",
          "data": {
            "text/plain": [
              "array([ 1,  4,  5,  7,  7, 10, 10, 10, 11, 11, 11, 12, 13, 15, 15, 16, 19,\n",
              "       19, 23, 24, 26, 27, 27, 27, 29, 30, 35, 35, 35, 35, 36, 36, 37, 38,\n",
              "       39, 41, 41, 42, 43, 44, 45, 48, 50, 52, 53, 54, 54, 54, 55, 55, 55,\n",
              "       55, 56, 56, 56, 58, 58, 59, 59, 62, 65, 66, 66, 67, 69, 69, 70, 72,\n",
              "       72, 73, 75, 75, 76, 77, 77, 79, 80, 82, 82, 83, 83, 84, 84, 85, 85,\n",
              "       86, 87, 87, 87, 87, 88, 89, 89, 90, 90, 90, 94, 98, 99, 99])"
            ]
          },
          "metadata": {},
          "execution_count": 18
        }
      ]
    },
    {
      "cell_type": "markdown",
      "source": [
        "16"
      ],
      "metadata": {
        "id": "YN2VZcx_IifS"
      }
    },
    {
      "cell_type": "code",
      "source": [
        "a=np.array([1,2,3,4,5])\n",
        "b=np.array([6,8,10,12,14])\n",
        "c=np.absolute(a-b)\n",
        "print(\"the element-wise absolute difference between the two arrays is\",c)"
      ],
      "metadata": {
        "colab": {
          "base_uri": "https://localhost:8080/"
        },
        "id": "c0WM0k-9IjcY",
        "outputId": "d71f1ee3-2b3e-4bc2-f2bb-d66ee7986e17"
      },
      "execution_count": 20,
      "outputs": [
        {
          "output_type": "stream",
          "name": "stdout",
          "text": [
            "the element-wise absolute difference between the two arrays is [5 6 7 8 9]\n"
          ]
        }
      ]
    },
    {
      "cell_type": "markdown",
      "source": [
        "17"
      ],
      "metadata": {
        "id": "VglBDDURJYKL"
      }
    },
    {
      "cell_type": "code",
      "source": [
        "arr=np.array([[1,2,3],[4,5,6],[7,8,9]])\n",
        "firstrow=arr[0]\n",
        "lastcol=arr[:,[-1]]\n",
        "print(\"first row is\\n\",firstrow)\n",
        "print(\"last coluymn is\\n\",lastcol)"
      ],
      "metadata": {
        "colab": {
          "base_uri": "https://localhost:8080/"
        },
        "id": "dG7Gc3UnJaiA",
        "outputId": "ec8423bc-42fc-45e2-d841-78ef2356fbd5"
      },
      "execution_count": 22,
      "outputs": [
        {
          "output_type": "stream",
          "name": "stdout",
          "text": [
            "first row is\n",
            " [1 2 3]\n",
            "last coluymn is\n",
            " [[3]\n",
            " [6]\n",
            " [9]]\n"
          ]
        }
      ]
    },
    {
      "cell_type": "markdown",
      "source": [
        "18"
      ],
      "metadata": {
        "id": "gNWneBuTKR6R"
      }
    },
    {
      "cell_type": "code",
      "source": [
        "a=np.array([1,2,3,4,5])\n",
        "x=a[0:len(a)+1]\n",
        "print(x)"
      ],
      "metadata": {
        "colab": {
          "base_uri": "https://localhost:8080/"
        },
        "id": "3zHtvUaYKS9o",
        "outputId": "7cb38bbb-e79e-43e8-e59e-3c65eee74b87"
      },
      "execution_count": 24,
      "outputs": [
        {
          "output_type": "stream",
          "name": "stdout",
          "text": [
            "[1 2 3 4 5]\n"
          ]
        }
      ]
    },
    {
      "cell_type": "markdown",
      "source": [
        "19"
      ],
      "metadata": {
        "id": "0c6UGSFoKpbQ"
      }
    },
    {
      "cell_type": "code",
      "source": [
        "arr=np.array([[10,1,14,16,18,20],[22,24,26,28,30,32],[34,36,38,40,42,44],[46,48,50,52,54,56],[58,60,62,64,66,68],[70,72,74,76,78,80]])\n",
        "x=arr[2:4,[2,3]]\n",
        "print('original array is\\n',arr)\n",
        "print('central 2x2 elements include\\n',x)"
      ],
      "metadata": {
        "colab": {
          "base_uri": "https://localhost:8080/"
        },
        "id": "CY3GFRQeKqS5",
        "outputId": "3c45af02-7b0f-4cc0-d918-2f4c5d9b6754"
      },
      "execution_count": 25,
      "outputs": [
        {
          "output_type": "stream",
          "name": "stdout",
          "text": [
            "original array is\n",
            " [[10  1 14 16 18 20]\n",
            " [22 24 26 28 30 32]\n",
            " [34 36 38 40 42 44]\n",
            " [46 48 50 52 54 56]\n",
            " [58 60 62 64 66 68]\n",
            " [70 72 74 76 78 80]]\n",
            "central 2x2 elements include\n",
            " [[38 40]\n",
            " [50 52]]\n"
          ]
        }
      ]
    },
    {
      "cell_type": "markdown",
      "source": [
        "20"
      ],
      "metadata": {
        "id": "XRMXkNVlLu4t"
      }
    },
    {
      "cell_type": "code",
      "source": [
        "a=np.array([1,2,3,4,5])\n",
        "x=a[::-1]\n",
        "x"
      ],
      "metadata": {
        "colab": {
          "base_uri": "https://localhost:8080/"
        },
        "id": "nv7201NtLvvD",
        "outputId": "67f1b0f0-1315-4fce-c7e2-3ba493c6887e"
      },
      "execution_count": 26,
      "outputs": [
        {
          "output_type": "execute_result",
          "data": {
            "text/plain": [
              "array([5, 4, 3, 2, 1])"
            ]
          },
          "metadata": {},
          "execution_count": 26
        }
      ]
    }
  ]
}