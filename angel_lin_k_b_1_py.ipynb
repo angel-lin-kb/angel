{
  "nbformat": 4,
  "nbformat_minor": 0,
  "metadata": {
    "colab": {
      "provenance": []
    },
    "kernelspec": {
      "name": "python3",
      "display_name": "Python 3"
    },
    "language_info": {
      "name": "python"
    }
  },
  "cells": [
    {
      "cell_type": "markdown",
      "source": [
        "**assignment** **3**"
      ],
      "metadata": {
        "id": "FtjRyShHGAv5"
      }
    },
    {
      "cell_type": "markdown",
      "source": [],
      "metadata": {
        "id": "shSJv87WOheP"
      }
    },
    {
      "cell_type": "markdown",
      "source": [
        "1"
      ],
      "metadata": {
        "id": "kFJDb7CYEwQ4"
      }
    },
    {
      "cell_type": "code",
      "execution_count": null,
      "metadata": {
        "colab": {
          "base_uri": "https://localhost:8080/"
        },
        "id": "sa84M_GuiQBK",
        "outputId": "e47e8b3f-7ad7-47ad-a348-a6289a32c080"
      },
      "outputs": [
        {
          "output_type": "stream",
          "name": "stdout",
          "text": [
            "first no:1\n",
            "second no:2\n",
            "3\n"
          ]
        }
      ],
      "source": [
        "a=int(input('first no:'))\n",
        "b=int(input('second no:'))\n",
        "s=a+b\n",
        "print(s)"
      ]
    },
    {
      "cell_type": "markdown",
      "source": [
        "2"
      ],
      "metadata": {
        "id": "I3K2vH3jE8UH"
      }
    },
    {
      "cell_type": "code",
      "source": [
        "a=int(input('first no:'))\n",
        "b=int(input('second no:'))\n",
        "s=a*b\n",
        "print(s)"
      ],
      "metadata": {
        "colab": {
          "base_uri": "https://localhost:8080/"
        },
        "id": "Ccbx1nwNiUIR",
        "outputId": "e0798e59-0359-4ca6-b7a2-43bb8470bef1"
      },
      "execution_count": null,
      "outputs": [
        {
          "output_type": "stream",
          "name": "stdout",
          "text": [
            "first no:1\n",
            "second no:2\n",
            "2\n"
          ]
        }
      ]
    },
    {
      "cell_type": "markdown",
      "source": [
        "3"
      ],
      "metadata": {
        "id": "W3hemzgZE93G"
      }
    },
    {
      "cell_type": "code",
      "source": [
        "a=int(input('firstno:'))\n",
        "b=int(input('second no:'))\n",
        "q=a/b\n",
        "r=a%b\n",
        "\n",
        "print(q,r)"
      ],
      "metadata": {
        "colab": {
          "base_uri": "https://localhost:8080/"
        },
        "id": "dzdu8JQJi7Mg",
        "outputId": "374cd23d-3b0c-414d-afbd-097193aa97c3"
      },
      "execution_count": null,
      "outputs": [
        {
          "output_type": "stream",
          "name": "stdout",
          "text": [
            "firstno:5\n",
            "second no:3\n",
            "1.6666666666666667 2\n"
          ]
        }
      ]
    },
    {
      "cell_type": "markdown",
      "source": [
        "4"
      ],
      "metadata": {
        "id": "GIOtDoaEE_1c"
      }
    },
    {
      "cell_type": "code",
      "source": [
        "s=\"python\"\n",
        "len(s)"
      ],
      "metadata": {
        "colab": {
          "base_uri": "https://localhost:8080/"
        },
        "id": "Q8oUrDCJkHlA",
        "outputId": "670b6ba8-b8de-4a14-d7d5-90bea955eba8"
      },
      "execution_count": null,
      "outputs": [
        {
          "output_type": "execute_result",
          "data": {
            "text/plain": [
              "6"
            ]
          },
          "metadata": {},
          "execution_count": 5
        }
      ]
    },
    {
      "cell_type": "markdown",
      "source": [
        "5"
      ],
      "metadata": {
        "id": "oohBYsRBFBWt"
      }
    },
    {
      "cell_type": "code",
      "source": [
        "a=input('enter the string')\n",
        "count=a.count('o')\n",
        "print(count)"
      ],
      "metadata": {
        "id": "_vjRKANSluJn",
        "colab": {
          "base_uri": "https://localhost:8080/"
        },
        "outputId": "5c3d0f39-ad7d-4533-eea3-07b0560f0d22"
      },
      "execution_count": null,
      "outputs": [
        {
          "output_type": "stream",
          "name": "stdout",
          "text": [
            "enter the stringcook\n",
            "2\n"
          ]
        }
      ]
    },
    {
      "cell_type": "markdown",
      "source": [
        "6"
      ],
      "metadata": {
        "id": "mdpaEZ5_FCZ3"
      }
    },
    {
      "cell_type": "code",
      "source": [
        "s=input('enter the string')\n",
        "r=s.upper()\n",
        "print(r)"
      ],
      "metadata": {
        "colab": {
          "base_uri": "https://localhost:8080/"
        },
        "id": "Xv8AD8fb7gJ0",
        "outputId": "de908666-71f8-4913-c9b8-41b6bdbee593"
      },
      "execution_count": null,
      "outputs": [
        {
          "output_type": "stream",
          "name": "stdout",
          "text": [
            "enter the stringdata\n",
            "DATA\n"
          ]
        }
      ]
    },
    {
      "cell_type": "markdown",
      "source": [
        "7"
      ],
      "metadata": {
        "id": "pLCXIVymFDiY"
      }
    },
    {
      "cell_type": "code",
      "source": [
        "a=input('enter the string')\n",
        "b=a.lower()\n",
        "print(b)"
      ],
      "metadata": {
        "colab": {
          "base_uri": "https://localhost:8080/"
        },
        "id": "YxcOQvtE7xGQ",
        "outputId": "676dc0d0-09b1-46d4-f3f8-7769a8dbe12f"
      },
      "execution_count": null,
      "outputs": [
        {
          "output_type": "stream",
          "name": "stdout",
          "text": [
            "enter the stringANGEL\n",
            "angel\n"
          ]
        }
      ]
    }
  ]
}